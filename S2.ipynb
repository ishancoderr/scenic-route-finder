{
  "nbformat": 4,
  "nbformat_minor": 0,
  "metadata": {
    "colab": {
      "provenance": [],
      "authorship_tag": "ABX9TyPB9QBfSOBrjRdAoPDfdCem",
      "include_colab_link": true
    },
    "kernelspec": {
      "name": "python3",
      "display_name": "Python 3"
    },
    "language_info": {
      "name": "python"
    }
  },
  "cells": [
    {
      "cell_type": "markdown",
      "metadata": {
        "id": "view-in-github",
        "colab_type": "text"
      },
      "source": [
        "<a href=\"https://colab.research.google.com/github/ishancoderr/scenic-route-finder/blob/main/S2.ipynb\" target=\"_parent\"><img src=\"https://colab.research.google.com/assets/colab-badge.svg\" alt=\"Open In Colab\"/></a>"
      ]
    },
    {
      "cell_type": "markdown",
      "source": [
        "In this Algorithm  aproch to find most senic route "
      ],
      "metadata": {
        "id": "e5MzBQUo3vuL"
      }
    },
    {
      "cell_type": "code",
      "source": [
        "class Graph:\n",
        "  def __init__(self,edges,distance_dic):\n",
        "    self.edges=edges\n",
        "    self.path_dict={}\n",
        "    self.distance_dic=distance_dic\n",
        "    #for i,j in distance_dic.items():\n",
        "      #print(j[0])\n",
        "\n",
        "    for start_city,end_city in self.edges:\n",
        "      #print(start_city,end_city)\n",
        "      if start_city in self.path_dict:\n",
        "        self.path_dict[start_city].append(end_city)\n",
        "      else:\n",
        "        self.path_dict[start_city]=[end_city]\n",
        "    #print(self.path_dict)\n",
        "  \n",
        "  def get_path_between_two_cities(self,start_city,end_city,path=[]):\n",
        "    path=path+[start_city]\n",
        "\n",
        "    if start_city==end_city:\n",
        "      return [path]\n",
        "    if start_city not in self.path_dict:\n",
        "      return []\n",
        "\n",
        "    paths=[]\n",
        "    for node in self.path_dict[start_city]:\n",
        "      if node not in path:\n",
        "        new_paths=self.get_path_between_two_cities(node,end_city,path)\n",
        "        for p in new_paths:\n",
        "          paths.append(p)\n",
        "  \n",
        "    \n",
        "    return paths\n",
        "\n",
        "    \n",
        "    \n",
        "\n",
        "\n",
        "\n",
        "\n",
        "\n"
      ],
      "metadata": {
        "id": "x05vMEGkA6CF"
      },
      "execution_count": 78,
      "outputs": []
    },
    {
      "cell_type": "code",
      "source": [
        "if __name__=='__main__':\n",
        "  routes=[\n",
        "      (\"Katuwana\",\"Matara\"),\n",
        "      (\"Matara\",\"Galle\"),\n",
        "      (\"Matara\",\"Colombo\"),\n",
        "      (\"Galle\",\"Colombo\"),\n",
        "      (\"Colombo\",\"Kandy\"),\n",
        "      (\"Kandy\",\"Nuwara Eliya\"),\n",
        "\n",
        "      (\"Katuwana\",\"Embilipitiya\"),\n",
        "      (\"Embilipitiya\",\"Palmadulla\"),\n",
        "      (\"Embilipitiya\",\"Balangoda\"),\n",
        "      (\"Palmadulla\",\"Balangoda\"),\n",
        "      (\"Balangoda\",\"Haputhale\"),\n",
        "      (\"Haputhale\",\"Walimada\"),\n",
        "      (\"Haputhale\",\"Nuwara Eliya\"),\n",
        "      (\"Walimada\",\"Nuwara Eliya\"),\n",
        "\n",
        "  ]\n",
        "  distance_dic={\n",
        "      1:[\"Katuwana\",\"Embilipitiya\",24],\n",
        "      2:[\"Embilipitiya\",\"Palmadulla\",67],\n",
        "      3:[\"Embilipitiya\",\"Balangoda\",89],\n",
        "      4:[\"Palmadulla\",\"Balangoda\",79],\n",
        "      5:[\"Balangoda\",\"Haputhale\",67],\n",
        "      6:[\"Haputhale\",\"Walimada\",12],\n",
        "      7:[\"Haputhale\",\"Nuwara Eliya\",45],\n",
        "      8:[\"Walimada\",\"Nuwara Eliya\",89],\n",
        "      9:[\"Katuwana\",\"Matara\",67],\n",
        "      10:[\"Matara\",\"Galle\",89],\n",
        "      11:[\"Matara\",\"Colombo\",45],\n",
        "      12:[\"Galle\",\"Colombo\",23],\n",
        "      13:[\"Colombo\",\"Kandy\",45],\n",
        "      14:[\"Kandy\",\"Nuwara Eliya\",67],     \n",
        "  }\n",
        "\n",
        "  route_graph=Graph(routes,distance_dic)\n",
        "  start_city=\"Katuwana\"\n",
        "  end_city=\"Nuwara Eliya\"\n",
        "  x=route_graph.get_path_between_two_cities(start_city,end_city)\n",
        "  print(x)"
      ],
      "metadata": {
        "colab": {
          "base_uri": "https://localhost:8080/"
        },
        "id": "h1ZrXqN5ypSR",
        "outputId": "577e24b4-0635-42f5-9df6-b38683229e11"
      },
      "execution_count": 132,
      "outputs": [
        {
          "output_type": "stream",
          "name": "stdout",
          "text": [
            "[['Katuwana', 'Matara', 'Galle', 'Colombo', 'Kandy', 'Nuwara Eliya'], ['Katuwana', 'Matara', 'Colombo', 'Kandy', 'Nuwara Eliya'], ['Katuwana', 'Embilipitiya', 'Palmadulla', 'Balangoda', 'Haputhale', 'Walimada', 'Nuwara Eliya'], ['Katuwana', 'Embilipitiya', 'Palmadulla', 'Balangoda', 'Haputhale', 'Nuwara Eliya'], ['Katuwana', 'Embilipitiya', 'Balangoda', 'Haputhale', 'Walimada', 'Nuwara Eliya'], ['Katuwana', 'Embilipitiya', 'Balangoda', 'Haputhale', 'Nuwara Eliya']]\n"
          ]
        }
      ]
    },
    {
      "cell_type": "code",
      "source": [
        "\n",
        "distance_dic={\n",
        "      1:[\"KatuwanaEmbilipitiya\",24],\n",
        "      2:[\"EmbilipitiyaPalmadulla\",67],\n",
        "      3:[\"EmbilipitiyaBalangoda\",89],\n",
        "      4:[\"PalmadullaBalangoda\",79],\n",
        "      5:[\"BalangodaHaputhale\",67],\n",
        "      6:[\"HaputhaleWalimada\",12],\n",
        "      7:[\"HaputhaleNuwara Eliya\",45],\n",
        "      8:[\"WalimadaNuwara Eliya\",89],\n",
        "      9:[\"KatuwanaMatara\",67],\n",
        "      10:[\"MataraGalle\",89],\n",
        "      11:[\"MataraColombo\",45],\n",
        "      12:[\"GalleColombo\",23],\n",
        "      13:[\"ColomboKandy\",45],\n",
        "      14:[\"KandyNuwara Eliya\",67],     \n",
        "  }\n",
        "  \n",
        "scenic_dic={\n",
        "      1:[\"KatuwanaEmbilipitiya\",2],\n",
        "      2:[\"EmbilipitiyaPalmadulla\",5],\n",
        "      3:[\"EmbilipitiyaBalangoda\",7],\n",
        "      4:[\"PalmadullaBalangoda\",8],\n",
        "      5:[\"BalangodaHaputhale\",12],\n",
        "      6:[\"HaputhaleWalimada\",34],\n",
        "      7:[\"HaputhaleNuwara Eliya\",56],\n",
        "      8:[\"WalimadaNuwara Eliya\",12],\n",
        "      9:[\"KatuwanaMatara\",7],\n",
        "      10:[\"MataraGalle\",89],\n",
        "      11:[\"MataraColombo\",7],\n",
        "      12:[\"GalleColombo\",4],\n",
        "      13:[\"ColomboKandy\",3],\n",
        "      14:[\"KandyNuwara Eliya\",8],     \n",
        "  }\n",
        "\n",
        "a=[]\n",
        "for m in x:\n",
        "  #print(m)\n",
        "  res = [i + j for i, j in zip(m, m[1:])]\n",
        "  a.append(res)\n",
        "#print(a)\n",
        "\n",
        "distance_list=[]\n",
        "for b in a:\n",
        "  full_distance=0\n",
        "  for i in range(len(b)):\n",
        "    for k,j in distance_dic.values():\n",
        "      if b[i]==k:\n",
        "        full_distance=full_distance+j\n",
        "  distance_list.append(full_distance)\n",
        "\n",
        "\n",
        "scenic_list=[]\n",
        "for b in a:\n",
        "  secenic_cumilative=0\n",
        "  for i in range(len(b)):\n",
        "    for k,j in scenic_dic.values():\n",
        "      if b[i]==k:\n",
        "        secenic_cumilative=secenic_cumilative+j\n",
        "  scenic_list.append(secenic_cumilative)\n",
        "\n",
        "print(distance_list)\n",
        "\n",
        "\n",
        "\n"
      ],
      "metadata": {
        "colab": {
          "base_uri": "https://localhost:8080/"
        },
        "id": "Ep34LeQbraQv",
        "outputId": "173ae0fc-75a3-4ac5-c7a3-49d0a31f3472"
      },
      "execution_count": 139,
      "outputs": [
        {
          "output_type": "stream",
          "name": "stdout",
          "text": [
            "[291, 224, 338, 282, 281, 225]\n",
            "[291, inf, 338, 282, 281, 225]\n",
            "[291, inf, 338, 282, 281, inf]\n",
            "['Katuwana', 'Matara', 'Galle', 'Colombo', 'Kandy', 'Nuwara Eliya']\n",
            "{224: ['Katuwana', 'Matara', 'Colombo', 'Kandy', 'Nuwara Eliya'], 225: ['Katuwana', 'Embilipitiya', 'Balangoda', 'Haputhale', 'Nuwara Eliya']}\n"
          ]
        }
      ]
    },
    {
      "cell_type": "code",
      "source": [
        "d={}\n",
        "m=[]\n",
        "def distance_order(distance_list,scenic_list,x):\n",
        "\n",
        "  for i in range(len(distance_list)):\n",
        "         \n",
        "    if min(distance_list) ==distance_list[i]:\n",
        "      d[distance_list[i]]=x[i]\n",
        "      m.append(x[i])\n",
        "      distance_list[i]=float('inf')\n",
        "      distance_order(distance_list,scenic_list,x)\n",
        "  print(m)\n",
        "    \n",
        "\n",
        "\n",
        "    "
      ],
      "metadata": {
        "id": "cm0x8pwWIXUb"
      },
      "execution_count": 148,
      "outputs": []
    },
    {
      "cell_type": "code",
      "source": [
        "distance_order(distance_list,scenic_list,x)"
      ],
      "metadata": {
        "colab": {
          "base_uri": "https://localhost:8080/",
          "height": 345
        },
        "id": "u-atdMuCI3oB",
        "outputId": "005d82f4-cb3f-4f59-c902-a1f72c1400ef"
      },
      "execution_count": 149,
      "outputs": [
        {
          "output_type": "error",
          "ename": "RecursionError",
          "evalue": "ignored",
          "traceback": [
            "\u001b[0;31m---------------------------------------------------------------------------\u001b[0m",
            "\u001b[0;31mRecursionError\u001b[0m                            Traceback (most recent call last)",
            "\u001b[0;32m<ipython-input-149-353cd56122d6>\u001b[0m in \u001b[0;36m<module>\u001b[0;34m\u001b[0m\n\u001b[0;32m----> 1\u001b[0;31m \u001b[0mdistance_order\u001b[0m\u001b[0;34m(\u001b[0m\u001b[0mdistance_list\u001b[0m\u001b[0;34m,\u001b[0m\u001b[0mscenic_list\u001b[0m\u001b[0;34m,\u001b[0m\u001b[0mx\u001b[0m\u001b[0;34m)\u001b[0m\u001b[0;34m\u001b[0m\u001b[0;34m\u001b[0m\u001b[0m\n\u001b[0m",
            "\u001b[0;32m<ipython-input-148-5906addf78c6>\u001b[0m in \u001b[0;36mdistance_order\u001b[0;34m(distance_list, scenic_list, x)\u001b[0m\n\u001b[1;32m      9\u001b[0m       \u001b[0mm\u001b[0m\u001b[0;34m.\u001b[0m\u001b[0mappend\u001b[0m\u001b[0;34m(\u001b[0m\u001b[0mx\u001b[0m\u001b[0;34m[\u001b[0m\u001b[0mi\u001b[0m\u001b[0;34m]\u001b[0m\u001b[0;34m)\u001b[0m\u001b[0;34m\u001b[0m\u001b[0;34m\u001b[0m\u001b[0m\n\u001b[1;32m     10\u001b[0m       \u001b[0mdistance_list\u001b[0m\u001b[0;34m[\u001b[0m\u001b[0mi\u001b[0m\u001b[0;34m]\u001b[0m\u001b[0;34m=\u001b[0m\u001b[0mfloat\u001b[0m\u001b[0;34m(\u001b[0m\u001b[0;34m'inf'\u001b[0m\u001b[0;34m)\u001b[0m\u001b[0;34m\u001b[0m\u001b[0;34m\u001b[0m\u001b[0m\n\u001b[0;32m---> 11\u001b[0;31m       \u001b[0mdistance_order\u001b[0m\u001b[0;34m(\u001b[0m\u001b[0mdistance_list\u001b[0m\u001b[0;34m,\u001b[0m\u001b[0mscenic_list\u001b[0m\u001b[0;34m,\u001b[0m\u001b[0mx\u001b[0m\u001b[0;34m)\u001b[0m\u001b[0;34m\u001b[0m\u001b[0;34m\u001b[0m\u001b[0m\n\u001b[0m\u001b[1;32m     12\u001b[0m   \u001b[0mprint\u001b[0m\u001b[0;34m(\u001b[0m\u001b[0mm\u001b[0m\u001b[0;34m)\u001b[0m\u001b[0;34m\u001b[0m\u001b[0;34m\u001b[0m\u001b[0m\n\u001b[1;32m     13\u001b[0m \u001b[0;34m\u001b[0m\u001b[0m\n",
            "... last 1 frames repeated, from the frame below ...\n",
            "\u001b[0;32m<ipython-input-148-5906addf78c6>\u001b[0m in \u001b[0;36mdistance_order\u001b[0;34m(distance_list, scenic_list, x)\u001b[0m\n\u001b[1;32m      9\u001b[0m       \u001b[0mm\u001b[0m\u001b[0;34m.\u001b[0m\u001b[0mappend\u001b[0m\u001b[0;34m(\u001b[0m\u001b[0mx\u001b[0m\u001b[0;34m[\u001b[0m\u001b[0mi\u001b[0m\u001b[0;34m]\u001b[0m\u001b[0;34m)\u001b[0m\u001b[0;34m\u001b[0m\u001b[0;34m\u001b[0m\u001b[0m\n\u001b[1;32m     10\u001b[0m       \u001b[0mdistance_list\u001b[0m\u001b[0;34m[\u001b[0m\u001b[0mi\u001b[0m\u001b[0;34m]\u001b[0m\u001b[0;34m=\u001b[0m\u001b[0mfloat\u001b[0m\u001b[0;34m(\u001b[0m\u001b[0;34m'inf'\u001b[0m\u001b[0;34m)\u001b[0m\u001b[0;34m\u001b[0m\u001b[0;34m\u001b[0m\u001b[0m\n\u001b[0;32m---> 11\u001b[0;31m       \u001b[0mdistance_order\u001b[0m\u001b[0;34m(\u001b[0m\u001b[0mdistance_list\u001b[0m\u001b[0;34m,\u001b[0m\u001b[0mscenic_list\u001b[0m\u001b[0;34m,\u001b[0m\u001b[0mx\u001b[0m\u001b[0;34m)\u001b[0m\u001b[0;34m\u001b[0m\u001b[0;34m\u001b[0m\u001b[0m\n\u001b[0m\u001b[1;32m     12\u001b[0m   \u001b[0mprint\u001b[0m\u001b[0;34m(\u001b[0m\u001b[0mm\u001b[0m\u001b[0;34m)\u001b[0m\u001b[0;34m\u001b[0m\u001b[0;34m\u001b[0m\u001b[0m\n\u001b[1;32m     13\u001b[0m \u001b[0;34m\u001b[0m\u001b[0m\n",
            "\u001b[0;31mRecursionError\u001b[0m: maximum recursion depth exceeded in comparison"
          ]
        }
      ]
    }
  ]
}