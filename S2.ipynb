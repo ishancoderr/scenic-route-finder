{
  "nbformat": 4,
  "nbformat_minor": 0,
  "metadata": {
    "colab": {
      "provenance": [],
      "authorship_tag": "ABX9TyMqADX2GWEaApisk5wdAZj4",
      "include_colab_link": true
    },
    "kernelspec": {
      "name": "python3",
      "display_name": "Python 3"
    },
    "language_info": {
      "name": "python"
    }
  },
  "cells": [
    {
      "cell_type": "markdown",
      "metadata": {
        "id": "view-in-github",
        "colab_type": "text"
      },
      "source": [
        "<a href=\"https://colab.research.google.com/github/ishancoderr/scenic-route-finder/blob/main/S2.ipynb\" target=\"_parent\"><img src=\"https://colab.research.google.com/assets/colab-badge.svg\" alt=\"Open In Colab\"/></a>"
      ]
    },
    {
      "cell_type": "markdown",
      "source": [
        "In this Algorithm  aproch to find most senic route "
      ],
      "metadata": {
        "id": "e5MzBQUo3vuL"
      }
    },
    {
      "cell_type": "code",
      "source": [
        "class Graph:\n",
        "  def __init__(self,edges,distance_dic):\n",
        "    self.edges=edges\n",
        "    self.path_dict={}\n",
        "    self.distance_dic=distance_dic\n",
        "    #for i,j in distance_dic.items():\n",
        "      #print(j[0])\n",
        "\n",
        "    for start_city,end_city in self.edges:\n",
        "      #print(start_city,end_city)\n",
        "      if start_city in self.path_dict:\n",
        "        self.path_dict[start_city].append(end_city)\n",
        "      else:\n",
        "        self.path_dict[start_city]=[end_city]\n",
        "    #print(self.path_dict)\n",
        "  \n",
        "  def get_path_between_two_cities(self,start_city,end_city,path=[]):\n",
        "    path=path+[start_city]\n",
        "\n",
        "    if start_city==end_city:\n",
        "      return [path]\n",
        "    if start_city not in self.path_dict:\n",
        "      return []\n",
        "\n",
        "    paths=[]\n",
        "    for node in self.path_dict[start_city]:\n",
        "      if node not in path:\n",
        "        new_paths=self.get_path_between_two_cities(node,end_city,path)\n",
        "        for p in new_paths:\n",
        "          paths.append(p)\n",
        "  \n",
        "    \n",
        "    return paths\n",
        "\n",
        "    \n",
        "    \n",
        "\n",
        "\n",
        "\n",
        "\n",
        "\n"
      ],
      "metadata": {
        "id": "x05vMEGkA6CF"
      },
      "execution_count": 1,
      "outputs": []
    },
    {
      "cell_type": "code",
      "source": [
        "if __name__=='__main__':\n",
        "  routes=[\n",
        "      (\"Katuwana\",\"Matara\"),\n",
        "      (\"Matara\",\"Galle\"),\n",
        "      (\"Matara\",\"Colombo\"),\n",
        "      (\"Galle\",\"Colombo\"),\n",
        "      (\"Colombo\",\"Kandy\"),\n",
        "      (\"Kandy\",\"Nuwara Eliya\"),\n",
        "\n",
        "      (\"Katuwana\",\"Embilipitiya\"),\n",
        "      (\"Embilipitiya\",\"Palmadulla\"),\n",
        "      (\"Embilipitiya\",\"Balangoda\"),\n",
        "      (\"Palmadulla\",\"Balangoda\"),\n",
        "      (\"Balangoda\",\"Haputhale\"),\n",
        "      (\"Haputhale\",\"Walimada\"),\n",
        "      (\"Haputhale\",\"Nuwara Eliya\"),\n",
        "      (\"Walimada\",\"Nuwara Eliya\"),\n",
        "\n",
        "  ]\n",
        "  distance_dic={\n",
        "      1:[\"Katuwana\",\"Embilipitiya\",24],\n",
        "      2:[\"Embilipitiya\",\"Palmadulla\",67],\n",
        "      3:[\"Embilipitiya\",\"Balangoda\",89],\n",
        "      4:[\"Palmadulla\",\"Balangoda\",79],\n",
        "      5:[\"Balangoda\",\"Haputhale\",67],\n",
        "      6:[\"Haputhale\",\"Walimada\",12],\n",
        "      7:[\"Haputhale\",\"Nuwara Eliya\",45],\n",
        "      8:[\"Walimada\",\"Nuwara Eliya\",89],\n",
        "      9:[\"Katuwana\",\"Matara\",67],\n",
        "      10:[\"Matara\",\"Galle\",89],\n",
        "      11:[\"Matara\",\"Colombo\",45],\n",
        "      12:[\"Galle\",\"Colombo\",23],\n",
        "      13:[\"Colombo\",\"Kandy\",45],\n",
        "      14:[\"Kandy\",\"Nuwara Eliya\",67],     \n",
        "  }\n",
        "\n",
        "  route_graph=Graph(routes,distance_dic)\n",
        "  start_city=\"Katuwana\"\n",
        "  end_city=\"Nuwara Eliya\"\n",
        "  x=route_graph.get_path_between_two_cities(start_city,end_city)\n",
        "  print(x)"
      ],
      "metadata": {
        "colab": {
          "base_uri": "https://localhost:8080/"
        },
        "id": "h1ZrXqN5ypSR",
        "outputId": "7205664f-0d31-4def-90ee-704811bde5ee"
      },
      "execution_count": 2,
      "outputs": [
        {
          "output_type": "stream",
          "name": "stdout",
          "text": [
            "[['Katuwana', 'Matara', 'Galle', 'Colombo', 'Kandy', 'Nuwara Eliya'], ['Katuwana', 'Matara', 'Colombo', 'Kandy', 'Nuwara Eliya'], ['Katuwana', 'Embilipitiya', 'Palmadulla', 'Balangoda', 'Haputhale', 'Walimada', 'Nuwara Eliya'], ['Katuwana', 'Embilipitiya', 'Palmadulla', 'Balangoda', 'Haputhale', 'Nuwara Eliya'], ['Katuwana', 'Embilipitiya', 'Balangoda', 'Haputhale', 'Walimada', 'Nuwara Eliya'], ['Katuwana', 'Embilipitiya', 'Balangoda', 'Haputhale', 'Nuwara Eliya']]\n"
          ]
        }
      ]
    },
    {
      "cell_type": "code",
      "source": [
        "\n",
        "distance_dic={\n",
        "      1:[\"KatuwanaEmbilipitiya\",24],\n",
        "      2:[\"EmbilipitiyaPalmadulla\",67],\n",
        "      3:[\"EmbilipitiyaBalangoda\",89],\n",
        "      4:[\"PalmadullaBalangoda\",79],\n",
        "      5:[\"BalangodaHaputhale\",67],\n",
        "      6:[\"HaputhaleWalimada\",12],\n",
        "      7:[\"HaputhaleNuwara Eliya\",45],\n",
        "      8:[\"WalimadaNuwara Eliya\",89],\n",
        "      9:[\"KatuwanaMatara\",67],\n",
        "      10:[\"MataraGalle\",89],\n",
        "      11:[\"MataraColombo\",45],\n",
        "      12:[\"GalleColombo\",23],\n",
        "      13:[\"ColomboKandy\",45],\n",
        "      14:[\"KandyNuwara Eliya\",67],     \n",
        "  }\n",
        "  \n",
        "scenic_dic={\n",
        "      1:[\"KatuwanaEmbilipitiya\",2],\n",
        "      2:[\"EmbilipitiyaPalmadulla\",5],\n",
        "      3:[\"EmbilipitiyaBalangoda\",7],\n",
        "      4:[\"PalmadullaBalangoda\",8],\n",
        "      5:[\"BalangodaHaputhale\",12],\n",
        "      6:[\"HaputhaleWalimada\",34],\n",
        "      7:[\"HaputhaleNuwara Eliya\",56],\n",
        "      8:[\"WalimadaNuwara Eliya\",12],\n",
        "      9:[\"KatuwanaMatara\",7],\n",
        "      10:[\"MataraGalle\",89],\n",
        "      11:[\"MataraColombo\",7],\n",
        "      12:[\"GalleColombo\",4],\n",
        "      13:[\"ColomboKandy\",3],\n",
        "      14:[\"KandyNuwara Eliya\",8],     \n",
        "  }\n",
        "\n",
        "a=[]\n",
        "for m in x:\n",
        "  #print(m)\n",
        "  res = [i + j for i, j in zip(m, m[1:])]\n",
        "  a.append(res)\n",
        "#print(a)\n",
        "\n",
        "distance_list=[]\n",
        "scenic_list=[]\n",
        "\n",
        "for b in a:\n",
        "  full_distance=0\n",
        "  secenic_cumilative=0\n",
        "  for i in range(len(b)):\n",
        "    for k,j in distance_dic.values():\n",
        "      if b[i]==k:\n",
        "        full_distance=full_distance+j\n",
        "\n",
        "    for k,j in scenic_dic.values():\n",
        "      if b[i]==k:\n",
        "        secenic_cumilative=secenic_cumilative+j\n",
        "\n",
        "  scenic_list.append(secenic_cumilative)\n",
        "  distance_list.append(full_distance)\n",
        "\n",
        "\n",
        "print(distance_list)\n",
        "print(scenic_list)\n",
        "\n",
        "\n",
        "\n"
      ],
      "metadata": {
        "colab": {
          "base_uri": "https://localhost:8080/"
        },
        "id": "Ep34LeQbraQv",
        "outputId": "5efedc2d-29c8-4d99-8e5b-9396054700ed"
      },
      "execution_count": 34,
      "outputs": [
        {
          "output_type": "stream",
          "name": "stdout",
          "text": [
            "[291, 224, 338, 282, 281, 225]\n",
            "[111, 25, 73, 83, 67, 77]\n"
          ]
        }
      ]
    },
    {
      "cell_type": "code",
      "source": [
        "sorted_distance_list=sorted(distance_list)\n",
        "sorted_scenic_list=sorted(scenic_list,reverse=True)\n",
        "\n",
        "\n",
        "print(sorted_distance_list)\n",
        "print(distance_list)\n",
        "print(sorted_scenic_list)\n",
        "print(scenic_list)\n",
        "\n",
        "index_array_sorted_distance=[]\n",
        "index_array_sorted_scenic=[]\n",
        "\n",
        "for s1 in range(len(sorted_distance_list)):\n",
        "  for s2 in range(len(distance_list)):\n",
        "    if sorted_distance_list[s1]==distance_list[s2]:\n",
        "      index_array_sorted_distance.append(s2)\n",
        "    \n",
        "    if sorted_scenic_list[s1]==scenic_list[s2]:\n",
        "      index_array_sorted_scenic.append(s2)\n",
        "  \n",
        "\n",
        "\n",
        "\n",
        "print(index_array_sorted_distance)\n",
        "print(index_array_sorted_scenic)\n",
        "#print(x)\n",
        "\n",
        "f=[]\n",
        "f1=[]\n",
        "for s in index_array_sorted_distance:\n",
        "  f.append(x[s])\n",
        "\n",
        "for s in index_array_sorted_scenic:\n",
        "  f1.append(x[s])\n",
        "\n",
        "print(f)\n",
        "print(f1)\n",
        "\n",
        "ls1 = []\n",
        "index=0\n",
        "for v1 in range(len(index_array_sorted_distance)):\n",
        "  for v2 in range(len(index_array_sorted_scenic)):\n",
        "    if index_array_sorted_distance[v1]==index_array_sorted_scenic[v2]:\n",
        "      print(f\"{v1+1}---{v2+1}\")\n",
        "      n=2*(v1+1)+1*(v2+1)\n",
        "      print(n)\n",
        "      \n",
        "      if v1==0:\n",
        "        minimum=n\n",
        "        index=v1\n",
        "        print(minimum)\n",
        "        print(index)\n",
        "      elif minimum>n:\n",
        "        minimum=n\n",
        "        index=v1\n",
        "        print(minimum)\n",
        "        print(index)\n",
        "\n",
        "    \n",
        "print(f[index])"
      ],
      "metadata": {
        "id": "8guybxg2Wodk",
        "outputId": "2a414f5b-7302-4a66-f772-dca507520b91",
        "colab": {
          "base_uri": "https://localhost:8080/"
        }
      },
      "execution_count": 70,
      "outputs": [
        {
          "output_type": "stream",
          "name": "stdout",
          "text": [
            "[224, 225, 281, 282, 291, 338]\n",
            "[291, 224, 338, 282, 281, 225]\n",
            "[111, 83, 77, 73, 67, 25]\n",
            "[111, 25, 73, 83, 67, 77]\n",
            "[1, 5, 4, 3, 0, 2]\n",
            "[0, 3, 5, 2, 4, 1]\n",
            "[['Katuwana', 'Matara', 'Colombo', 'Kandy', 'Nuwara Eliya'], ['Katuwana', 'Embilipitiya', 'Balangoda', 'Haputhale', 'Nuwara Eliya'], ['Katuwana', 'Embilipitiya', 'Balangoda', 'Haputhale', 'Walimada', 'Nuwara Eliya'], ['Katuwana', 'Embilipitiya', 'Palmadulla', 'Balangoda', 'Haputhale', 'Nuwara Eliya'], ['Katuwana', 'Matara', 'Galle', 'Colombo', 'Kandy', 'Nuwara Eliya'], ['Katuwana', 'Embilipitiya', 'Palmadulla', 'Balangoda', 'Haputhale', 'Walimada', 'Nuwara Eliya']]\n",
            "[['Katuwana', 'Matara', 'Galle', 'Colombo', 'Kandy', 'Nuwara Eliya'], ['Katuwana', 'Embilipitiya', 'Palmadulla', 'Balangoda', 'Haputhale', 'Nuwara Eliya'], ['Katuwana', 'Embilipitiya', 'Balangoda', 'Haputhale', 'Nuwara Eliya'], ['Katuwana', 'Embilipitiya', 'Palmadulla', 'Balangoda', 'Haputhale', 'Walimada', 'Nuwara Eliya'], ['Katuwana', 'Embilipitiya', 'Balangoda', 'Haputhale', 'Walimada', 'Nuwara Eliya'], ['Katuwana', 'Matara', 'Colombo', 'Kandy', 'Nuwara Eliya']]\n",
            "1---6\n",
            "8\n",
            "8\n",
            "0\n",
            "2---3\n",
            "7\n",
            "7\n",
            "1\n",
            "3---5\n",
            "11\n",
            "4---2\n",
            "10\n",
            "5---1\n",
            "11\n",
            "6---4\n",
            "16\n",
            "['Katuwana', 'Embilipitiya', 'Balangoda', 'Haputhale', 'Nuwara Eliya']\n"
          ]
        }
      ]
    }
  ]
}