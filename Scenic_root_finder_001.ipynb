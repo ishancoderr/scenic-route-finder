{
  "nbformat": 4,
  "nbformat_minor": 0,
  "metadata": {
    "colab": {
      "provenance": [],
      "authorship_tag": "ABX9TyMMYvSL2ECmP+phdsG8aGOB",
      "include_colab_link": true
    },
    "kernelspec": {
      "name": "python3",
      "display_name": "Python 3"
    },
    "language_info": {
      "name": "python"
    }
  },
  "cells": [
    {
      "cell_type": "markdown",
      "metadata": {
        "id": "view-in-github",
        "colab_type": "text"
      },
      "source": [
        "<a href=\"https://colab.research.google.com/github/ishancoderr/scenic-route-finder/blob/main/Scenic_root_finder_001.ipynb\" target=\"_parent\"><img src=\"https://colab.research.google.com/assets/colab-badge.svg\" alt=\"Open In Colab\"/></a>"
      ]
    },
    {
      "cell_type": "code",
      "execution_count": 4,
      "metadata": {
        "colab": {
          "base_uri": "https://localhost:8080/"
        },
        "id": "rZL4JGlPRThi",
        "outputId": "21755515-58fb-429a-ed6f-de187350d660"
      },
      "outputs": [
        {
          "output_type": "stream",
          "name": "stdout",
          "text": [
            "[[ 0  0  2  3]\n",
            " [ 0  5  0  7]\n",
            " [ 0  9 10  0]\n",
            " [ 0  0  0  0]]\n"
          ]
        }
      ],
      "source": [
        "#\n",
        "import numpy as np\n",
        "\n",
        "height, width = 4, 4\n",
        "num = [0, 0, 2, 3, 0, 5, 0, 7, 0, 9, 10, 0, 0, 0, 0, 0]\n",
        "map= np.array(num).reshape((height, width))\n",
        "print(map)"
      ]
    },
    {
      "cell_type": "code",
      "source": [
        "import sys\n",
        "Value = 0\n",
        "\n",
        "for i in range(len(map)):\n",
        "  for j in range(len(map)):\n",
        "    print(f\"{map[i,j]}\")\n",
        "    if map[i,j]==0:\n",
        "      print(f\"{map[i+1,j+1]+map[i,j+1]+map[i+1,j]+map[i-1,j-1]+map[i-1,j]}\")\n",
        "      #sys.exit()\n",
        "      \n",
        "  \n",
        "    \n",
        "\n"
      ],
      "metadata": {
        "colab": {
          "base_uri": "https://localhost:8080/",
          "height": 530
        },
        "id": "9Tm2QosnWEPG",
        "outputId": "cf3fd6d0-edb4-4fc8-fc5f-87003e82eea8"
      },
      "execution_count": 43,
      "outputs": [
        {
          "output_type": "stream",
          "name": "stdout",
          "text": [
            "0\n",
            "5\n",
            "0\n",
            "7\n",
            "2\n",
            "3\n",
            "0\n",
            "17\n",
            "5\n",
            "0\n",
            "19\n",
            "7\n",
            "0\n",
            "16\n",
            "9\n",
            "10\n",
            "0\n"
          ]
        },
        {
          "output_type": "error",
          "ename": "IndexError",
          "evalue": "ignored",
          "traceback": [
            "\u001b[0;31m---------------------------------------------------------------------------\u001b[0m",
            "\u001b[0;31mIndexError\u001b[0m                                Traceback (most recent call last)",
            "\u001b[0;32m<ipython-input-43-46b35607510a>\u001b[0m in \u001b[0;36m<module>\u001b[0;34m\u001b[0m\n\u001b[1;32m      6\u001b[0m     \u001b[0mprint\u001b[0m\u001b[0;34m(\u001b[0m\u001b[0;34mf\"{map[i,j]}\"\u001b[0m\u001b[0;34m)\u001b[0m\u001b[0;34m\u001b[0m\u001b[0;34m\u001b[0m\u001b[0m\n\u001b[1;32m      7\u001b[0m     \u001b[0;32mif\u001b[0m \u001b[0mmap\u001b[0m\u001b[0;34m[\u001b[0m\u001b[0mi\u001b[0m\u001b[0;34m,\u001b[0m\u001b[0mj\u001b[0m\u001b[0;34m]\u001b[0m\u001b[0;34m==\u001b[0m\u001b[0;36m0\u001b[0m\u001b[0;34m:\u001b[0m\u001b[0;34m\u001b[0m\u001b[0;34m\u001b[0m\u001b[0m\n\u001b[0;32m----> 8\u001b[0;31m       \u001b[0mprint\u001b[0m\u001b[0;34m(\u001b[0m\u001b[0;34mf\"{map[i+1,j+1]+map[i,j+1]+map[i+1,j]+map[i-1,j-1]+map[i-1,j]}\"\u001b[0m\u001b[0;34m)\u001b[0m\u001b[0;34m\u001b[0m\u001b[0;34m\u001b[0m\u001b[0m\n\u001b[0m\u001b[1;32m      9\u001b[0m       \u001b[0;31m#sys.exit()\u001b[0m\u001b[0;34m\u001b[0m\u001b[0;34m\u001b[0m\u001b[0;34m\u001b[0m\u001b[0m\n\u001b[1;32m     10\u001b[0m \u001b[0;34m\u001b[0m\u001b[0m\n",
            "\u001b[0;31mIndexError\u001b[0m: index 4 is out of bounds for axis 1 with size 4"
          ]
        }
      ]
    }
  ]
}